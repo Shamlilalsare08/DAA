{
 "cells": [
  {
   "cell_type": "code",
   "execution_count": 5,
   "id": "9ca26f9a",
   "metadata": {},
   "outputs": [
    {
     "name": "stdout",
     "output_type": "stream",
     "text": [
      "0 1 0 0\n",
      "0 0 0 1\n",
      "1 0 0 0\n",
      "0 0 1 0\n",
      "\n",
      "0 0 1 0\n",
      "1 0 0 0\n",
      "0 0 0 1\n",
      "0 1 0 0\n",
      "\n"
     ]
    }
   ],
   "source": [
    "#name:Omkar Aware\n",
    "#roll no:COBA35\n",
    "\n",
    "def n_queens(n):\n",
    "    col = set()  \n",
    "    posDiag = set()  \n",
    "    negDiag = set()  \n",
    "    res = [] \n",
    "\n",
    "  \n",
    "    board = [[\"0\"] * n for _ in range(n)]\n",
    "\n",
    "    def backtrack(r):\n",
    "\n",
    "        if r == n:\n",
    "            copy = [\" \".join(row) for row in board]\n",
    "            res.append(copy)\n",
    "            return\n",
    "\n",
    " \n",
    "        for c in range(n):\n",
    "\n",
    "            if c in col or (r + c) in posDiag or (r - c) in negDiag:\n",
    "                continue\n",
    "\n",
    "\n",
    "            col.add(c)\n",
    "            posDiag.add(r + c)\n",
    "            negDiag.add(r - c)\n",
    "            board[r][c] = \"1\"\n",
    "\n",
    "\n",
    "            backtrack(r + 1)\n",
    "\n",
    "\n",
    "            col.remove(c)\n",
    "            posDiag.remove(r + c)\n",
    "            negDiag.remove(r - c)\n",
    "            board[r][c] = \"0\"\n",
    "\n",
    "\n",
    "    backtrack(0)\n",
    "\n",
    "\n",
    "    for sol in res:\n",
    "        for row in sol:\n",
    "            print(row)\n",
    "        print()\n",
    "\n",
    "\n",
    "n_queens(4)\n"
   ]
  },
  {
   "cell_type": "code",
   "execution_count": null,
   "id": "ad475dc0",
   "metadata": {},
   "outputs": [],
   "source": []
  }
 ],
 "metadata": {
  "kernelspec": {
   "display_name": "Python 3 (ipykernel)",
   "language": "python",
   "name": "python3"
  },
  "language_info": {
   "codemirror_mode": {
    "name": "ipython",
    "version": 3
   },
   "file_extension": ".py",
   "mimetype": "text/x-python",
   "name": "python",
   "nbconvert_exporter": "python",
   "pygments_lexer": "ipython3",
   "version": "3.11.5"
  }
 },
 "nbformat": 4,
 "nbformat_minor": 5
}
