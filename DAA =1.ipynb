{
 "cells": [
  {
   "cell_type": "code",
   "execution_count": 4,
   "id": "96a9b994",
   "metadata": {},
   "outputs": [
    {
     "name": "stdout",
     "output_type": "stream",
     "text": [
      "0\n",
      "1\n",
      "1\n",
      "2\n",
      "3\n",
      "5\n",
      "8\n",
      "13\n",
      "21\n",
      "34\n",
      "0\n",
      "1\n",
      "1\n",
      "2\n",
      "3\n",
      "5\n",
      "8\n",
      "13\n",
      "21\n",
      "34\n"
     ]
    }
   ],
   "source": [
    "#name:Omkar Aware\n",
    "#roll no:COBA35\n",
    "\n",
    "def recursive_fibonacci(n):    #space comp   O(N)\n",
    "    if n <= 1:\n",
    "        return n\n",
    "    else: \n",
    "        return recursive_fibonacci(n-1)+ recursive_fibonacci(n-2)\n",
    "\n",
    "def non_recursive_fibonacci(n):     # #space comp   O(1)  iterative approach\n",
    "    first = 0\n",
    "    second = 1\n",
    "    print(first)\n",
    "    print(second)\n",
    "    while n-2 > 0:\n",
    "        third=first + second\n",
    "        first=second\n",
    "        second=third\n",
    "        print(third)\n",
    "        n-=1\n",
    "\n",
    "if __name__== \"__main__\":\n",
    "    n=10\n",
    "    for i in range(n):\n",
    "        print(recursive_fibonacci(i))\n",
    "\n",
    "non_recursive_fibonacci(n)"
   ]
  },
  {
   "cell_type": "code",
   "execution_count": null,
   "id": "cdb41cef",
   "metadata": {},
   "outputs": [],
   "source": []
  },
  {
   "cell_type": "code",
   "execution_count": null,
   "id": "c9b5a35a",
   "metadata": {},
   "outputs": [],
   "source": []
  }
 ],
 "metadata": {
  "kernelspec": {
   "display_name": "Python 3 (ipykernel)",
   "language": "python",
   "name": "python3"
  },
  "language_info": {
   "codemirror_mode": {
    "name": "ipython",
    "version": 3
   },
   "file_extension": ".py",
   "mimetype": "text/x-python",
   "name": "python",
   "nbconvert_exporter": "python",
   "pygments_lexer": "ipython3",
   "version": "3.11.5"
  }
 },
 "nbformat": 4,
 "nbformat_minor": 5
}
